{
 "cells": [
  {
   "cell_type": "markdown",
   "metadata": {},
   "source": [
    "## Start by importing what is important"
   ]
  },
  {
   "cell_type": "code",
   "execution_count": 3,
   "metadata": {},
   "outputs": [],
   "source": [
    "# to load in .root data in jagged arrays (using uproot3 instead of newer uproot 4)\n",
    "import uproot3\n",
    "# many great math functions to use on arrays\n",
    "import numpy as np\n",
    "# great plotting tools\n",
    "import matplotlib.pyplot as plt\n",
    "# useful styleistic settings for your plots, not really needed but looks nice\n",
    "import mplhep as hep\n",
    "plt.style.use(hep.style.CMS)"
   ]
  },
  {
   "cell_type": "markdown",
   "metadata": {},
   "source": [
    "## Load in .root files using [uproot3](https://pypi.org/project/uproot3/) which converts everything to JaggedArray format\n",
    "Can also use more recent [uproot 4](https://uproot.readthedocs.io/en/latest/)"
   ]
  },
  {
   "cell_type": "code",
   "execution_count": 4,
   "metadata": {},
   "outputs": [],
   "source": [
    "arrays = (uproot3.open(\"TTbar_PU200_D49_extended.root\")[\"L1TrackNtuple/eventTree\"].arrays(\"*\", namedecode=\"utf-8\"))"
   ]
  },
  {
   "cell_type": "code",
   "execution_count": 5,
   "metadata": {},
   "outputs": [
    {
     "data": {
      "text/plain": [
       "dict_keys(['trk_pt', 'trk_eta', 'trk_phi', 'trk_d0', 'trk_z0', 'trk_chi2', 'trk_chi2rphi', 'trk_chi2rz', 'trk_bendchi2', 'trk_nstub', 'trk_lhits', 'trk_dhits', 'trk_seed', 'trk_hitpattern', 'trk_phiSector', 'trk_genuine', 'trk_loose', 'trk_unknown', 'trk_combinatoric', 'trk_fake', 'trk_MVA1', 'trk_matchtp_pdgid', 'trk_matchtp_pt', 'trk_matchtp_eta', 'trk_matchtp_phi', 'trk_matchtp_z0', 'trk_matchtp_dxy', 'trk_matchtp_d0', 'tp_pt', 'tp_eta', 'tp_phi', 'tp_dxy', 'tp_d0', 'tp_z0', 'tp_d0_prod', 'tp_z0_prod', 'tp_pdgid', 'tp_nmatch', 'tp_nstub', 'tp_eventid', 'tp_charge', 'matchtrk_pt', 'matchtrk_eta', 'matchtrk_phi', 'matchtrk_z0', 'matchtrk_d0', 'matchtrk_chi2', 'matchtrk_chi2rphi', 'matchtrk_chi2rz', 'matchtrk_bendchi2', 'matchtrk_MVA1', 'matchtrk_nstub', 'matchtrk_lhits', 'matchtrk_dhits', 'matchtrk_seed', 'matchtrk_hitpattern'])"
      ]
     },
     "execution_count": 5,
     "metadata": {},
     "output_type": "execute_result"
    }
   ],
   "source": [
    "# list what variables you have in the file\n",
    "arrays.keys()"
   ]
  },
  {
   "cell_type": "markdown",
   "metadata": {},
   "source": [
    "## A few examples of how to work with the data"
   ]
  },
  {
   "cell_type": "code",
   "execution_count": 6,
   "metadata": {},
   "outputs": [
    {
     "data": {
      "text/plain": [
       "<JaggedArray [[3.0139294 2.793586 18.649332 ... 3.2457705 13.491986 17.82791] [1.9581631 2.4448566 15.136438 ... 2.0070722 2.1705081 2.30754] [1.9595677 14.82837 4.4679103 ... 2.6201172 2.7978773 4.735056] ... [3.2788806 3.7828 2.0488393 ... 49.227516 8.841836 2.058875] [2.2734573 2.1817746 2.2389896 ... 1.9794437 2.3757627 7.5110025] [2.5521972 1.9532634 3.9928787 ... 2.5823507 2.639099 4.1239657]] at 0x7ff1c0674470>"
      ]
     },
     "execution_count": 6,
     "metadata": {},
     "output_type": "execute_result"
    }
   ],
   "source": [
    "# show the trk_pt variable organized by events\n",
    "arrays['trk_pt']"
   ]
  },
  {
   "cell_type": "code",
   "execution_count": 7,
   "metadata": {},
   "outputs": [
    {
     "data": {
      "text/plain": [
       "array([   3.0139294,    2.793586 ,   18.649332 ,    2.127825 ,\n",
       "          2.0118756,    4.9517484,    1.9758649,    2.5611691,\n",
       "          3.5117316,    2.7192109,    1.988086 ,    2.6531944,\n",
       "          1.9595677,    2.1896431,    4.1302   , 1821.4181   ,\n",
       "          2.6454875,    2.2645066,    2.2720392,    2.863865 ,\n",
       "          5.5138793,    1.9515194,    2.1883278,    1.9504745,\n",
       "          1.9960747,    5.2591476,    2.0678349,    9.461912 ,\n",
       "          2.843744 ,    7.36919  ,    3.1421819,    2.199338 ,\n",
       "          2.2248592,    2.3583317,    2.0041277,    2.543288 ,\n",
       "          1.9895338,    2.1146495,    3.2769141,    2.3222501,\n",
       "         14.513291 ,    1.9968042,    2.1378148,    2.191839 ,\n",
       "          2.536794 ,    2.5468442,    2.5866294,    2.0733273,\n",
       "          4.4551606,    2.3757627,    6.0612917,    3.8575745,\n",
       "          2.1971269,    2.1619205,    4.582184 ,    2.8036194,\n",
       "          2.5134566,    5.4155145,    2.4928167,    2.4002874,\n",
       "          2.3997605,    2.68844  ,    2.461376 ,    4.029686 ,\n",
       "          2.6713538,    2.825364 ,    7.0506506,    9.527906 ,\n",
       "         13.833556 ,   11.0388975,    2.0651   ,   17.346838 ,\n",
       "          3.0741236,    2.1804686,    3.0155928,    2.2109058,\n",
       "          2.156375 ,    2.266385 ,    4.3889594,    2.0717552,\n",
       "          2.2122488,    2.1044693,    3.5276012,    2.5641737,\n",
       "          1.9733673,    2.6132255,    2.9544494,    2.2839098,\n",
       "          2.0457711,    2.0404236,    3.4301662,    2.4050415,\n",
       "          2.2011094,    2.1109734,    2.2988026,    2.008917 ,\n",
       "          7.124191 ,    2.2394485,    2.053845 ,    2.1232774,\n",
       "          2.6564193,    2.8578737,    2.5036676,    2.3649662,\n",
       "          3.496004 ,    2.733494 ,    2.6001687,    2.1804686,\n",
       "          2.7097716,    2.3070526,    2.483752 ,    3.1898742,\n",
       "          1.9550105,    2.1692157,    2.2028842,    4.004584 ,\n",
       "         16.458597 ,    2.002292 ,    2.5262387,    2.5480318,\n",
       "          3.6043894,    4.965247 ,    2.089581 ,    2.7928722,\n",
       "          2.328683 ,    2.4307182,    3.131378 ,    1.9652058,\n",
       "          2.8195326,    4.2016563,    2.5521972,    4.7932057,\n",
       "          2.3527467,    3.2457705,   13.491986 ,   17.82791  ],\n",
       "      dtype=float32)"
      ]
     },
     "execution_count": 7,
     "metadata": {},
     "output_type": "execute_result"
    }
   ],
   "source": [
    "# look at track pt within the first event\n",
    "arrays['trk_pt'][0]"
   ]
  },
  {
   "cell_type": "code",
   "execution_count": 9,
   "metadata": {},
   "outputs": [
    {
     "data": {
      "text/plain": [
       "1.9997271"
      ]
     },
     "execution_count": 9,
     "metadata": {},
     "output_type": "execute_result"
    }
   ],
   "source": [
    "# look at track pt in the mth event of the nth track (index starts at 0 so have to do -1)\n",
    "n = 4\n",
    "m = 8\n",
    "arrays['trk_pt'][m-1][n-1]"
   ]
  },
  {
   "cell_type": "code",
   "execution_count": 10,
   "metadata": {},
   "outputs": [
    {
     "data": {
      "text/plain": [
       "array([ 3.0139294,  2.793586 , 18.649332 , ...,  2.5823507,  2.639099 ,\n",
       "        4.1239657], dtype=float32)"
      ]
     },
     "execution_count": 10,
     "metadata": {},
     "output_type": "execute_result"
    }
   ],
   "source": [
    "# flatten the track pt jagged array so that it is no longer events based, but just an array of tracks within the full sample\n",
    "arrays['trk_pt'].flatten()"
   ]
  },
  {
   "cell_type": "code",
   "execution_count": 12,
   "metadata": {},
   "outputs": [
    {
     "data": {
      "text/plain": [
       "1.988086"
      ]
     },
     "execution_count": 12,
     "metadata": {},
     "output_type": "execute_result"
    }
   ],
   "source": [
    "# choose track pt of the ith track in the full sample\n",
    "i = 10\n",
    "arrays['trk_pt'].flatten()[i]"
   ]
  },
  {
   "cell_type": "code",
   "execution_count": 13,
   "metadata": {},
   "outputs": [
    {
     "data": {
      "text/plain": [
       "array([1.1032447 , 1.0273261 , 2.9258103 , ..., 0.94870013, 0.9704375 ,\n",
       "       1.4168153 ], dtype=float32)"
      ]
     },
     "execution_count": 13,
     "metadata": {},
     "output_type": "execute_result"
    }
   ],
   "source": [
    "# look at the log(pt) of the track pts\n",
    "np.log(arrays['trk_pt'].flatten())"
   ]
  },
  {
   "cell_type": "code",
   "execution_count": 14,
   "metadata": {},
   "outputs": [
    {
     "data": {
      "text/plain": [
       "array([ 9.12784100e-01,  1.16847730e+00, -8.03340137e-01,  2.24515176e+00,\n",
       "        2.30088210e+00,  8.17840755e-01,  6.79025292e-01,  2.11116028e+00,\n",
       "        2.11905527e+00,  1.11099437e-01,  2.13224381e-01,  2.13224351e-01,\n",
       "        1.58988166e+00,  1.94091603e-01, -1.34892213e+00, -1.30536675e+00,\n",
       "        3.83135527e-01,  1.26420474e+00, -1.51796031e+00, -1.21730125e+00,\n",
       "       -1.35271490e+00, -1.35366118e+00, -1.35932219e+00, -1.35082006e+00,\n",
       "        1.26113522e+00,  6.52026415e-01,  6.91583991e-01, -1.12909532e+00,\n",
       "       -1.05610549e+00,  9.20862794e-01,  6.74291611e-01,  1.49817932e+00,\n",
       "       -6.04990959e-01, -5.31290889e-01, -6.53626323e-01, -8.03340197e-01,\n",
       "        2.37735748e+00,  6.48822188e-01,  2.12643099e+00,  9.51397538e-01,\n",
       "        9.28894520e-01,  9.70946729e-01,  9.57945704e-01, -2.03667164e-01,\n",
       "       -7.96036839e-01,  1.72149098e+00,  2.14827228e-02, -6.56821787e-01,\n",
       "       -5.75178683e-01, -9.57945704e-01,  6.75870955e-01,  6.48822188e-01,\n",
       "        6.48822188e-01,  1.51386833e+00, -4.86446440e-01, -8.09157252e-01,\n",
       "       -8.73062849e-01,  7.85752654e-01,  9.73531961e-01,  1.63922238e+00,\n",
       "        4.51318681e-01,  9.00576949e-01, -1.01672316e+00, -2.31396937e+00,\n",
       "        1.32298696e+00, -8.56294572e-01, -8.86887074e-01, -1.27031982e+00,\n",
       "       -1.25702989e+00,  6.88453078e-01, -9.65761304e-01, -2.13224351e-01,\n",
       "        1.29247224e+00,  6.03347063e-01,  5.55043221e-01,  5.03805816e-01,\n",
       "        9.10080731e-01,  4.03060168e-01,  4.47776437e-01,  1.37335324e+00,\n",
       "       -1.26614541e-01, -3.41008574e-01, -4.56622064e-01, -4.47776437e-01,\n",
       "       -4.47776437e-01,             nan, -7.84277856e-01,  1.17068958e+00,\n",
       "       -1.43925965e+00, -3.16933095e-01,  1.13023818e+00, -1.39727032e+00,\n",
       "        2.72023380e-01,  2.68255442e-01,  3.09488803e-01,  2.41778135e-01,\n",
       "       -1.15735412e+00, -9.86382723e-01, -9.55330193e-01,  9.11433041e-01,\n",
       "        1.00542760e+00,  2.53878981e-02,  1.66307211e+00,  1.65949237e+00,\n",
       "        5.14154792e-01, -2.20722699e+00, -1.95709968e+00, -1.95330584e+00,\n",
       "        1.79723525e+00,  1.79534292e+00, -3.15073609e-01, -2.53146946e-01,\n",
       "       -9.67059612e-01, -9.50084090e-01,  1.13023818e+00, -1.22788608e+00,\n",
       "       -2.03222466e+00, -2.01650524e+00, -1.53498185e+00, -5.49977064e-01,\n",
       "        1.79344726e+00,  1.36296362e-01,  1.44032747e-01,  1.36296362e-01,\n",
       "       -1.15287626e+00,  9.36132073e-02, -3.44696015e-01, -3.00159991e-01,\n",
       "       -3.20648938e-01,  8.27907562e-01, -5.88486671e-01,  4.84702945e-01,\n",
       "        2.15720057e+00,  3.70379746e-01, -2.01497126e+00,  1.92244482e+00,\n",
       "        1.88544130e+00,  1.33073270e+00,  1.33842659e+00,  1.32880116e+00,\n",
       "        1.33362401e+00,  1.33362389e+00, -1.18933403e+00,  4.60151047e-01,\n",
       "        4.53087807e-01, -9.44817722e-01, -2.13224351e-01,  4.89929348e-01,\n",
       "        1.38996482e+00, -1.24150658e+00,  1.04637229e+00,  1.75742495e+00,\n",
       "       -3.18791568e-01,  1.15175426e+00, -1.16920911e-01, -1.09158099e-01,\n",
       "        4.63674664e-01,  3.64895284e-01, -5.86828291e-01, -5.86828351e-01,\n",
       "       -1.61707318e+00, -1.44625270e+00, -7.34802008e-01, -6.75871015e-01,\n",
       "       -6.52026355e-01,  1.84498370e-01, -2.12505198e+00,  1.74226785e+00,\n",
       "       -1.02792144e+00, -4.58387256e-01, -5.78514338e-01, -7.22028762e-02,\n",
       "       -4.88087460e-02, -4.29555401e-02, -1.88079524e+00, -7.02546984e-02,\n",
       "       -1.66877520e+00, -1.12909520e+00, -1.00164056e+00, -1.05246413e+00,\n",
       "       -9.47453439e-01, -6.56821787e-01, -6.56821728e-01, -5.07594496e-02,\n",
       "       -7.16420054e-01, -4.95143384e-01, -5.05534172e-01, -4.84702945e-01,\n",
       "       -4.84702945e-01,  5.56729078e-01,  2.22740626e+00, -5.88486731e-01,\n",
       "       -6.53626323e-01,  6.16457164e-01, -1.43925965e+00, -6.83745742e-01,\n",
       "       -3.57566208e-01, -1.59446108e+00, -1.39999795e+00, -1.42868721e+00,\n",
       "       -1.45493329e+00, -1.42602837e+00,  1.73627758e+00, -1.00290418e+00,\n",
       "        1.16920918e-01,  9.36132148e-02,  9.94453877e-02,  1.38231233e-01,\n",
       "       -9.35551763e-01, -5.71837187e-01, -6.26228213e-01, -1.86908913e+00,\n",
       "       -1.86673212e+00, -1.85128129e+00, -1.95300076e-02, -1.48142040e+00,\n",
       "       -1.47973049e+00, -1.02419949e+00, -1.00920367e+00, -9.78687108e-01,\n",
       "       -8.92379045e-01, -8.52071762e-01, -8.63305211e-01, -5.70164263e-01,\n",
       "       -8.06251466e-01, -8.29340160e-01, -9.32892799e-01, -8.35056305e-01,\n",
       "       -8.49249721e-01, -8.60505104e-01, -8.97849679e-01, -1.72216773e+00,\n",
       "       -1.37984228e+00,  6.85316384e-01,  1.87261486e+00,  2.00571966e+00,\n",
       "        2.00054359e+00,  1.59826279e+00,  9.08726990e-01,  6.85316324e-01,\n",
       "       -3.20648938e-01,  6.82173848e-01,  1.50646472e+00,  1.50646448e+00,\n",
       "        1.90780032e+00,  1.87320125e+00, -8.88262093e-01, -5.93453288e-01,\n",
       "        7.87226200e-01, -9.50084209e-01, -1.52285028e+00,  1.40165597e-01,\n",
       "        1.57550514e-01,  1.16626072e+00, -1.40543306e+00,  1.38261187e+00,\n",
       "       -4.54855561e-01, -2.18923807e+00, -1.20799750e-01, -3.88584167e-01,\n",
       "        1.16404021e+00,  1.18824518e+00,  1.17510247e+00,  1.15735412e+00,\n",
       "        1.16847730e+00,  1.19476306e+00,  1.19367933e+00,  1.19476330e+00,\n",
       "        1.43398595e+00, -1.92913520e+00, -1.93135583e+00, -1.89696729e+00,\n",
       "        2.94550419e-01,  3.11351418e-01,  2.96421260e-01,  2.13224381e-01,\n",
       "       -1.04881251e+00, -1.35366118e+00, -6.60011292e-01, -3.53894681e-01,\n",
       "       -3.29919696e-01, -2.98291117e-01, -6.60011292e-01, -3.35469127e-01,\n",
       "       -1.78734332e-01,  1.50067139e+00,  4.61913586e-01, -1.96008146e-01,\n",
       "       -2.03667164e-01, -6.06633365e-01,  6.53626323e-01, -5.22740483e-01,\n",
       "       -4.04864043e-01,  1.44032732e-01,  1.26614571e-01,  1.19042182e+00,\n",
       "       -8.97233188e-02, -5.66103831e-02, -2.92926859e-02, -1.56243639e-02,\n",
       "        7.22028762e-02, -4.67192918e-01, -1.86418384e-01, -1.86418384e-01,\n",
       "       -1.80656344e-01, -5.27099632e-02, -3.90525721e-02, -1.53256607e+00,\n",
       "       -4.10041325e-02, -9.94453877e-02,  3.13213050e-01,  2.15133548e-01,\n",
       "        1.03331648e-01, -5.27099594e-02, -5.27099594e-02, -1.36714485e-02,\n",
       "       -6.99385524e-01, -7.57485509e-01, -7.70939708e-01,  2.30378613e-01,\n",
       "       -7.33278215e-01, -6.26228213e-01,  4.72460181e-01,  1.67188779e-01,\n",
       "       -7.54479825e-01,  1.02544129e+00,  1.78200197e+00,  1.47549438e+00,\n",
       "       -1.38231233e-01, -6.11551762e-01,  2.17663050e+00,  1.55015802e+00,\n",
       "       -1.94091603e-01, -1.94091573e-01,  9.68356609e-01,  2.72023380e-01,\n",
       "        2.90805727e-01,  2.72023380e-01,  2.92678565e-01,  1.13707352e+00,\n",
       "        2.16563582e+00,  6.64784610e-01, -2.30378598e-01,  4.93406773e-01,\n",
       "       -4.31771278e-01,  3.39163184e-01, -3.16933095e-01, -1.18606460e+00,\n",
       "        4.47776437e-01, -8.64703298e-01,  1.77751708e+00,  9.20862913e-01,\n",
       "        8.88262093e-01,  1.48479247e+00,  2.22156167e+00, -1.90382218e+00,\n",
       "        1.25084531e+00, -3.51490118e-02, -1.47379518e+00,  2.09660554e+00,\n",
       "        2.12090421e+00,  2.07075119e+00,  2.12688994e+00, -2.90805697e-01,\n",
       "        2.41778165e-01,  2.45571196e-01,  5.61778069e-01,  1.20769405e+00,\n",
       "        1.17289805e+00, -1.16958404e+00, -1.38629436e+00,  1.23314321e+00,\n",
       "       -2.19827199e+00, -2.20722699e+00, -2.20254612e+00, -1.36714475e-02,\n",
       "       -1.41353714e+00, -1.49150610e+00,  1.30733800e+00, -1.39818025e+00,\n",
       "       -1.09783077e+00, -1.28847575e+00, -1.33169734e+00, -1.31518888e+00,\n",
       "        1.03656483e+00, -1.82276106e+00, -1.75414824e+00,  1.97923973e-01,\n",
       "       -4.12067235e-01, -4.06666756e-01, -4.40676063e-01, -3.86769176e-01,\n",
       "       -1.40452909e+00, -8.81373584e-01,  1.59479335e-01,  1.59479365e-01,\n",
       "        1.65262327e-01, -4.46003318e-01, -4.47776437e-01, -1.91852224e+00,\n",
       "       -1.89179635e+00, -2.53146946e-01, -1.36296362e-01, -1.12336469e+00,\n",
       "        2.14827228e-02, -1.34511673e+00, -1.31127012e+00, -9.72239912e-01,\n",
       "        1.01388708e-01,  1.07216343e-01, -6.64784610e-01,  1.44712389e+00,\n",
       "        1.28647232e+00,  1.36776149e+00,  1.39453626e+00, -1.27336550e+00,\n",
       "        1.39270985e+00, -1.75217736e+00,  3.94021928e-01,  3.81316900e-01,\n",
       "       -1.05367899e+00, -1.25394166e+00, -1.24774051e+00, -1.23209381e+00,\n",
       "       -1.21090508e+00, -9.91488218e-01, -1.03286767e+00, -9.82540488e-01,\n",
       "       -9.79972839e-01, -1.01547289e+00, -1.01921999e+00, -1.18933403e+00,\n",
       "       -1.24254775e+00, -4.70705748e-01,  1.69198477e+00, -9.69652295e-01,\n",
       "       -9.40854192e-01, -9.67059612e-01, -9.48769510e-01, -9.22204792e-01,\n",
       "       -1.80226457e+00, -1.04025137e+00,  1.15399730e+00,  1.15063119e+00,\n",
       "        1.14612854e+00,  1.13023818e+00,  1.12680626e+00,  1.11991358e+00,\n",
       "        2.41544890e+00, -1.03533363e+00,  1.69545782e+00,  1.74888444e+00,\n",
       "        1.75807893e+00,  1.86967766e+00,  1.87261462e+00, -8.97233188e-02,\n",
       "       -8.58320668e-02,  1.36682689e+00,  2.11209226e+00,  2.12459183e+00,\n",
       "        6.44085854e-02, -2.32083058e+00, -7.02546909e-02,  9.57945704e-01,\n",
       "       -1.76329732e+00,  7.11791754e-01,  7.30226159e-01,  7.00941384e-01,\n",
       "        6.71128511e-01,  7.11791813e-01,  7.11791754e-01,  6.99385405e-01,\n",
       "       -1.74888343e-01, -6.60011292e-01, -6.91583931e-01, -6.71128511e-01,\n",
       "       -6.97828114e-01, -6.77448869e-01,  7.10246146e-01,  6.75871074e-01,\n",
       "       -6.19719923e-01, -5.90143681e-01,  6.96269274e-01,  1.97923973e-01,\n",
       "       -1.20124602e+00, -1.15623617e+00, -1.16515088e+00,  1.38904846e+00,\n",
       "       -1.21517313e+00,  1.04025137e+00,  1.04270327e+00,  1.23314333e+00,\n",
       "        2.16475129e+00,  9.24884558e-01,  7.66467988e-01, -9.76547040e-03,\n",
       "        3.90623999e-03,  1.84948373e+00,  2.07492307e-01, -1.46010923e+00,\n",
       "        9.24884558e-01, -1.07892728e+00, -1.56825173e+00, -3.55730981e-01,\n",
       "       -3.26214641e-01, -3.26214641e-01, -3.35469127e-01, -3.09488773e-01,\n",
       "       -2.45571196e-01, -3.35469127e-01,  1.58988166e+00, -1.66664004e+00,\n",
       "       -1.72689176e+00, -1.72689176e+00, -1.34511673e+00, -1.08486533e+00,\n",
       "       -2.18620896e+00, -2.11998010e+00, -2.15228534e+00, -2.15496922e+00,\n",
       "       -2.15273309e+00, -2.14373922e+00,  1.80038130e+00, -1.37335324e+00,\n",
       "       -1.36776149e+00,  7.60984048e-02,  8.97233188e-02,  4.82958108e-01,\n",
       "        1.44799423e+00,  1.50811410e+00,  1.46782839e+00, -9.63161230e-01,\n",
       "        3.75853688e-01,  7.33278215e-01, -2.07220459e+00, -2.07751679e+00,\n",
       "       -1.33458602e+00, -5.27874947e-01, -5.66814125e-01, -5.32996774e-01,\n",
       "       -1.45233619e+00,  2.98291117e-01,  9.01938617e-01, -1.47888446e+00,\n",
       "       -1.20769405e+00, -1.20876539e+00, -1.20769405e+00, -1.20769405e+00,\n",
       "       -1.20769405e+00, -1.19367933e+00,  4.93406773e-01,  1.12451291e+00,\n",
       "        2.01753497e-01, -6.18089259e-01, -1.36776161e+00,  7.85752714e-01,\n",
       "        1.25187814e+00,  1.43133962e+00,  2.36082152e-01,  1.57550529e-01,\n",
       "        1.65262312e-01,  1.82577685e-01,  1.67188779e-01,  1.65262312e-01,\n",
       "        1.65262327e-01,  1.72964424e-01,  1.85008323e+00,  1.85427022e+00,\n",
       "        1.79660475e+00, -7.08698928e-01,  1.06936812e+00, -6.24593794e-02,\n",
       "        1.52690911e+00,  8.03340137e-01,  5.55043161e-01,  1.01422155e+00,\n",
       "       -4.01254982e-01,  2.39880338e-01, -7.11791813e-01, -7.34802008e-01,\n",
       "       -8.30771208e-01,  2.41778135e-01,  2.32280612e-01,  1.01388693e-01,\n",
       "        9.46136236e-01,  1.56512654e+00,  1.55174327e+00,  6.21349216e-01,\n",
       "        6.58417284e-01, -2.26138735e+00,  9.59251404e-01, -4.49067801e-02,\n",
       "       -1.34606922e+00, -6.21349275e-01,  9.31561351e-01, -3.57566148e-01,\n",
       "       -2.53146917e-01, -2.96421260e-01, -2.92678565e-01, -2.47466475e-01,\n",
       "       -2.79547900e-01, -2.77668178e-01,  2.66370058e-01,  3.77675921e-01,\n",
       "       -1.26614541e-01, -9.50084209e-01, -9.90213752e-01, -2.75787532e-01,\n",
       "       -3.16933066e-01, -2.75787532e-01, -1.86418384e-01, -1.52933717e+00,\n",
       "        1.63335294e-01,  1.78734332e-01,  9.88937974e-01,  7.63479531e-01,\n",
       "        1.29147434e+00,  1.47719073e+00,  6.26228213e-01,  1.41353714e+00,\n",
       "       -1.50150084e+00,  1.40814090e+00,  7.97500253e-01,  2.12597156e+00,\n",
       "       -2.10835910e+00,  1.89925718e+00,  1.89868510e+00,  1.90268278e+00,\n",
       "        9.72239912e-01,  1.11414015e+00,  6.75871015e-01,  7.00941443e-01,\n",
       "       -8.03340137e-01, -6.04990959e-01, -6.00054979e-01,  1.01388693e-01,\n",
       "       -1.32201505e+00,  1.36296362e-01,  1.36296362e-01,  1.34360999e-01,\n",
       "       -4.10041325e-02,  9.36132148e-02, -2.87057012e-01, -9.59251404e-01,\n",
       "       -2.87057012e-01, -4.03060138e-01, -9.59251404e-01,  1.43838251e+00,\n",
       "       -6.83745801e-01, -9.81257319e-01, -9.97842669e-01,  9.94033694e-01,\n",
       "       -2.11255765e+00,  2.35886168e+00,  2.17619300e+00,  2.21104121e+00,\n",
       "        2.20211959e+00,  1.70030141e+00,  1.32395804e+00, -7.22570658e-01,\n",
       "       -1.74226785e+00, -5.85934147e-03,             nan, -1.59674370e+00,\n",
       "        3.59400183e-01,  1.27235126e+00,  7.36324430e-01,  4.49067838e-02,\n",
       "        5.46602756e-02,  1.15735400e+00,  1.32201517e+00,  8.00423026e-01,\n",
       "       -3.77675921e-01, -9.06015575e-01,  1.38721311e+00,  1.39727044e+00,\n",
       "       -1.56243639e-02,  1.37335312e+00, -3.81316811e-01, -1.42247367e+00,\n",
       "        1.06816816e+00,  1.86418384e-01,  1.50976121e+00,  1.40165597e-01,\n",
       "       -1.84407282e+00,  1.66948593e+00,  1.75217736e+00,  1.13023818e+00,\n",
       "        1.63335279e-01, -6.67959511e-01, -9.52709675e-01, -6.77448809e-01,\n",
       "       -6.83745801e-01, -1.03331648e-01, -7.41507784e-02, -3.71008627e-02,\n",
       "        7.43914545e-01,  6.94708884e-01, -1.37799203e+00,  1.37799203e+00,\n",
       "        1.33554745e+00,  1.75414824e+00, -1.86791146e+00, -1.69615114e+00,\n",
       "       -1.00920367e+00,  9.64461923e-01, -7.80457482e-02, -2.14779639e+00,\n",
       "       -1.73427343e+00, -1.78646755e+00,  2.30936933e+00,  2.22239852e+00,\n",
       "        1.29346919e+00,  1.53578579e+00,  1.51058388e+00, -1.16736948e+00,\n",
       "        1.37335324e+00,  4.47776437e-01,  1.44538105e+00,  1.36214232e+00,\n",
       "        2.92678595e-01, -8.84132981e-01,  2.09403753e-01, -8.09157252e-01,\n",
       "       -4.49067801e-02, -1.39727032e+00,  7.73913860e-01,  7.08699048e-01,\n",
       "       -5.22740483e-01, -5.71837187e-01, -4.72460210e-01, -6.16457105e-01,\n",
       "       -2.14689589e+00, -2.14419079e+00, -2.09471250e+00, -2.14193082e+00,\n",
       "       -2.14147830e+00,  2.98291117e-01,  9.01938617e-01,  1.76654577e+00,\n",
       "       -9.88937974e-01, -1.01045990e+00,  1.82577699e-01,  1.40090561e+00,\n",
       "        6.29473507e-01, -1.71945882e+00,  1.76003885e+00, -1.59674370e+00,\n",
       "       -2.27934909e+00, -2.25248981e+00, -2.26780987e+00, -1.43574655e+00,\n",
       "       -1.45666122e+00, -1.44625270e+00, -1.77365780e+00, -7.90168703e-01,\n",
       "       -9.94033694e-01, -9.65761423e-01, -1.39179575e+00,  3.72205615e-01,\n",
       "        4.49548185e-01,  3.83135498e-01,  3.74030292e-01, -1.34320927e+00,\n",
       "       -1.34320927e+00,  1.39270985e+00, -2.28475779e-01, -3.12449150e-02,\n",
       "       -1.30437982e+00, -1.28346062e+00, -1.28346062e+00, -1.26011014e+00,\n",
       "       -1.28346074e+00,  1.56825185e+00,  1.96008116e-01,  2.05580115e-01,\n",
       "        1.96008146e-01,  1.03331648e-01, -1.94840717e+00,  1.77172303e+00,\n",
       "        1.75349164e+00,  1.77043104e+00,  8.32200944e-01, -8.01882267e-01,\n",
       "        1.36214232e+00, -1.72689176e+00, -1.01547289e+00,  1.33650780e+00,\n",
       "       -4.26412791e-01, -4.49548185e-01, -4.79464233e-01,  1.17620313e+00,\n",
       "       -2.17041939e-01,  7.46940434e-01,  2.35446048e+00, -1.57447577e+00,\n",
       "        1.34702098e+00,  1.35649514e+00,  3.79496992e-01, -2.06686521e+00,\n",
       "        1.70168126e+00, -1.80602109e+00,  1.08130574e+00, -4.03060138e-01,\n",
       "       -4.24624085e-01, -1.69822836e+00, -1.74690378e+00,  4.38897729e-01,\n",
       "        7.11791813e-01, -1.76589704e+00, -1.95312372e-03, -3.81316841e-01,\n",
       "       -1.46010923e+00,  1.32201517e+00, -1.54777563e+00,  7.81242177e-03,\n",
       "       -5.53355873e-01, -1.56825197e+00, -1.56903172e+00,  1.08249342e+00,\n",
       "        1.30437982e+00, -1.36296377e-01, -2.53878981e-02,  2.04174232e+00,\n",
       "       -2.15133548e-01,  3.90397966e-01,  1.43662584e+00,  2.11314440e-01,\n",
       "        1.37149239e+00, -4.46003288e-01,  7.52974749e-01,  7.04048693e-01,\n",
       "        7.08699048e-01, -6.18089259e-01, -6.11551821e-01, -6.85316384e-01,\n",
       "        1.86418384e-01,  1.86418384e-01,  2.18949556e-01], dtype=float32)"
      ]
     },
     "execution_count": 14,
     "metadata": {},
     "output_type": "execute_result"
    }
   ],
   "source": [
    "# only look at track eta for tracks with pt > 10 GeV\n",
    "arrays['trk_eta'].flatten()[arrays['trk_pt'].flatten()>10]"
   ]
  },
  {
   "cell_type": "markdown",
   "metadata": {},
   "source": [
    "## Now let's look at some example [hists](https://matplotlib.org/3.5.0/api/_as_gen/matplotlib.pyplot.hist.html) using the [matplotlib](https://matplotlib.org/) toolset"
   ]
  },
  {
   "cell_type": "code",
   "execution_count": 19,
   "metadata": {},
   "outputs": [
    {
     "data": {
      "image/png": "[encoded data removed]",
      "text/plain": [
       "<Figure size 720x720 with 1 Axes>"
      ]
     },
     "metadata": {
      "needs_background": "light"
     },
     "output_type": "display_data"
    }
   ],
   "source": [
    "# a histogram of track pt\n",
    "trk_pt = arrays['trk_pt'].flatten()\n",
    "plt.hist(trk_pt,bins=100,range=(0,100),histtype='step',label='all tracks')\n",
    "plt.xlabel('track $p_T$ (GeV/c)')\n",
    "plt.ylabel('# tracks')\n",
    "plt.legend(loc='best')\n",
    "#plt.yscale('log') #if you want the y axis on log scale\n",
    "plt.show()"
   ]
  },
  {
   "cell_type": "code",
   "execution_count": 22,
   "metadata": {},
   "outputs": [
    {
     "data": {
      "image/png": "[encoded data removed]",
      "text/plain": [
       "<Figure size 720x720 with 1 Axes>"
      ]
     },
     "metadata": {
      "needs_background": "light"
     },
     "output_type": "display_data"
    }
   ],
   "source": [
    "# a histogram of track pt overlayed with another histogram with a cut on fake tracks (trk_fake==0)\n",
    "trk_pt = arrays['trk_pt'].flatten()\n",
    "trk_fake = arrays['trk_fake'].flatten()\n",
    "plt.hist(trk_pt,bins=100,range=(0,100),histtype='step',label='all tracks')\n",
    "plt.hist(trk_pt[trk_fake>0],bins=100,range=(0,100),histtype='step',label='real tracks')\n",
    "plt.hist(trk_pt[trk_fake==0],bins=100,range=(0,100),histtype='step',label='fake tracks')\n",
    "plt.xlabel('track $p_T$ (GeV/c)')\n",
    "plt.ylabel('# tracks')\n",
    "plt.legend(loc='best')\n",
    "plt.yscale('log') #if you want the y axis on log scale\n",
    "plt.show()"
   ]
  },
  {
   "cell_type": "code",
   "execution_count": null,
   "metadata": {},
   "outputs": [],
   "source": []
  }
 ],
 "metadata": {
  "kernelspec": {
   "display_name": "Python 3",
   "language": "python",
   "name": "python3"
  },
  "language_info": {
   "codemirror_mode": {
    "name": "ipython",
    "version": 3
   },
   "file_extension": ".py",
   "mimetype": "text/x-python",
   "name": "python",
   "nbconvert_exporter": "python",
   "pygments_lexer": "ipython3",
   "version": "3.7.1"
  }
 },
 "nbformat": 4,
 "nbformat_minor": 4
}
